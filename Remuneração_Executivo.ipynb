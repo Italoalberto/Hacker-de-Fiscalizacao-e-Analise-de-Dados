{
  "nbformat": 4,
  "nbformat_minor": 0,
  "metadata": {
    "colab": {
      "name": "Remuneração_Executivo.ipynb",
      "provenance": [],
      "authorship_tag": "ABX9TyOvE32f6pDoLZwODcIPHC+A",
      "include_colab_link": true
    },
    "kernelspec": {
      "name": "python3",
      "display_name": "Python 3"
    },
    "language_info": {
      "name": "python"
    }
  },
  "cells": [
    {
      "cell_type": "markdown",
      "metadata": {
        "id": "view-in-github",
        "colab_type": "text"
      },
      "source": [
        "<a href=\"https://colab.research.google.com/github/Italoalberto/Hacker-de-Fiscalizacao-e-Analise-de-Dados/blob/main/Remunera%C3%A7%C3%A3o_Executivo.ipynb\" target=\"_parent\"><img src=\"https://colab.research.google.com/assets/colab-badge.svg\" alt=\"Open In Colab\"/></a>"
      ]
    },
    {
      "cell_type": "markdown",
      "source": [
        "# # Hacker de Fiscalização e Análise de Dados"
      ],
      "metadata": {
        "id": "f_v_9z8padVg"
      }
    },
    {
      "cell_type": "markdown",
      "source": [
        "Proposta: Fazer uma breve análise sobre a evolução da remuneração de servidores federais."
      ],
      "metadata": {
        "id": "SEW1qIsTaWjf"
      }
    },
    {
      "cell_type": "markdown",
      "source": [
        "\"Baseado na tabela em CSV com a série histórica 'Remuneração líquida média\n",
        "mensal no Executivo civil federal ativo, por sexo e raça (1999-2020)',\n",
        "disponível no site do Atlas do Estado Brasileiro (IPEA), comente uma ou duas\n",
        "tendências da evolução da remuneração destes servidores de acordo com seu\n",
        "sexo e/ou raça.\". Dados obtidos em: https://www.ipea.gov.br/atlasestado/filtros-series"
      ],
      "metadata": {
        "id": "El3k3ubnasCf"
      }
    },
    {
      "cell_type": "markdown",
      "source": [
        "# Importando dependências"
      ],
      "metadata": {
        "id": "7NqNUPpp_sTU"
      }
    },
    {
      "cell_type": "code",
      "source": [
        "import pandas as pd #biblioteca para manipulação de dados\n",
        "import numpy as np #biblioteca para utilizacao de vetores e matrizes\n",
        "import matplotlib.pyplot as plt #bibloteca para plotar graficos\n",
        "from sklearn.linear_model import LinearRegression"
      ],
      "metadata": {
        "id": "afpdzTSfYOap"
      },
      "execution_count": 1,
      "outputs": []
    },
    {
      "cell_type": "code",
      "source": [
        "#liberando acesso do colab aos arquivos no Google Drive\n",
        "from google.colab import drive\n",
        "drive.mount('/content/gdrive')\n"
      ],
      "metadata": {
        "colab": {
          "base_uri": "https://localhost:8080/"
        },
        "id": "qnlZK8qQaahx",
        "outputId": "2def4538-1645-4c97-f1a9-9a20a8740c48"
      },
      "execution_count": 2,
      "outputs": [
        {
          "output_type": "stream",
          "name": "stdout",
          "text": [
            "Drive already mounted at /content/gdrive; to attempt to forcibly remount, call drive.mount(\"/content/gdrive\", force_remount=True).\n"
          ]
        }
      ]
    },
    {
      "cell_type": "markdown",
      "source": [
        "# Carregando dados"
      ],
      "metadata": {
        "id": "xX0QeOjqDMYJ"
      }
    },
    {
      "cell_type": "code",
      "source": [
        "#lendo o csv que contem as base de dados em dfs\n",
        "df = pd.read_csv('/content/gdrive/MyDrive/Colab Notebooks/6957-racasexo.csv', sep=';')"
      ],
      "metadata": {
        "id": "q-M1Zv0FYUZ2"
      },
      "execution_count": 3,
      "outputs": []
    },
    {
      "cell_type": "code",
      "source": [
        "df.head()"
      ],
      "metadata": {
        "colab": {
          "base_uri": "https://localhost:8080/",
          "height": 238
        },
        "id": "JskkTTMdYIMR",
        "outputId": "ea5614b2-9f03-4ece-994e-7cf62c37dca6"
      },
      "execution_count": 41,
      "outputs": [
        {
          "output_type": "execute_result",
          "data": {
            "text/plain": [
              "       ano           raça     Fem     Mas   total  total_ano  fem_ano  mas_ano\n",
              "ano                                                                           \n",
              "1999  1999        AMARELA    7319    8566   15885     477416   210314   267102\n",
              "1999  1999         BRANCA  105793  124198  229991     477416   210314   267102\n",
              "1999  1999       INDIGENA     530    1054    1584     477416   210314   267102\n",
              "1999  1999  NAO INFORMADO   32792   50004   82796     477416   210314   267102\n",
              "1999  1999          PARDA   54612   74169  128781     477416   210314   267102"
            ],
            "text/html": [
              "\n",
              "  <div id=\"df-31972504-a9a1-4a2c-bce5-144512adc405\">\n",
              "    <div class=\"colab-df-container\">\n",
              "      <div>\n",
              "<style scoped>\n",
              "    .dataframe tbody tr th:only-of-type {\n",
              "        vertical-align: middle;\n",
              "    }\n",
              "\n",
              "    .dataframe tbody tr th {\n",
              "        vertical-align: top;\n",
              "    }\n",
              "\n",
              "    .dataframe thead th {\n",
              "        text-align: right;\n",
              "    }\n",
              "</style>\n",
              "<table border=\"1\" class=\"dataframe\">\n",
              "  <thead>\n",
              "    <tr style=\"text-align: right;\">\n",
              "      <th></th>\n",
              "      <th>ano</th>\n",
              "      <th>raça</th>\n",
              "      <th>Fem</th>\n",
              "      <th>Mas</th>\n",
              "      <th>total</th>\n",
              "      <th>total_ano</th>\n",
              "      <th>fem_ano</th>\n",
              "      <th>mas_ano</th>\n",
              "    </tr>\n",
              "    <tr>\n",
              "      <th>ano</th>\n",
              "      <th></th>\n",
              "      <th></th>\n",
              "      <th></th>\n",
              "      <th></th>\n",
              "      <th></th>\n",
              "      <th></th>\n",
              "      <th></th>\n",
              "      <th></th>\n",
              "    </tr>\n",
              "  </thead>\n",
              "  <tbody>\n",
              "    <tr>\n",
              "      <th>1999</th>\n",
              "      <td>1999</td>\n",
              "      <td>AMARELA</td>\n",
              "      <td>7319</td>\n",
              "      <td>8566</td>\n",
              "      <td>15885</td>\n",
              "      <td>477416</td>\n",
              "      <td>210314</td>\n",
              "      <td>267102</td>\n",
              "    </tr>\n",
              "    <tr>\n",
              "      <th>1999</th>\n",
              "      <td>1999</td>\n",
              "      <td>BRANCA</td>\n",
              "      <td>105793</td>\n",
              "      <td>124198</td>\n",
              "      <td>229991</td>\n",
              "      <td>477416</td>\n",
              "      <td>210314</td>\n",
              "      <td>267102</td>\n",
              "    </tr>\n",
              "    <tr>\n",
              "      <th>1999</th>\n",
              "      <td>1999</td>\n",
              "      <td>INDIGENA</td>\n",
              "      <td>530</td>\n",
              "      <td>1054</td>\n",
              "      <td>1584</td>\n",
              "      <td>477416</td>\n",
              "      <td>210314</td>\n",
              "      <td>267102</td>\n",
              "    </tr>\n",
              "    <tr>\n",
              "      <th>1999</th>\n",
              "      <td>1999</td>\n",
              "      <td>NAO INFORMADO</td>\n",
              "      <td>32792</td>\n",
              "      <td>50004</td>\n",
              "      <td>82796</td>\n",
              "      <td>477416</td>\n",
              "      <td>210314</td>\n",
              "      <td>267102</td>\n",
              "    </tr>\n",
              "    <tr>\n",
              "      <th>1999</th>\n",
              "      <td>1999</td>\n",
              "      <td>PARDA</td>\n",
              "      <td>54612</td>\n",
              "      <td>74169</td>\n",
              "      <td>128781</td>\n",
              "      <td>477416</td>\n",
              "      <td>210314</td>\n",
              "      <td>267102</td>\n",
              "    </tr>\n",
              "  </tbody>\n",
              "</table>\n",
              "</div>\n",
              "      <button class=\"colab-df-convert\" onclick=\"convertToInteractive('df-31972504-a9a1-4a2c-bce5-144512adc405')\"\n",
              "              title=\"Convert this dataframe to an interactive table.\"\n",
              "              style=\"display:none;\">\n",
              "        \n",
              "  <svg xmlns=\"http://www.w3.org/2000/svg\" height=\"24px\"viewBox=\"0 0 24 24\"\n",
              "       width=\"24px\">\n",
              "    <path d=\"M0 0h24v24H0V0z\" fill=\"none\"/>\n",
              "    <path d=\"M18.56 5.44l.94 2.06.94-2.06 2.06-.94-2.06-.94-.94-2.06-.94 2.06-2.06.94zm-11 1L8.5 8.5l.94-2.06 2.06-.94-2.06-.94L8.5 2.5l-.94 2.06-2.06.94zm10 10l.94 2.06.94-2.06 2.06-.94-2.06-.94-.94-2.06-.94 2.06-2.06.94z\"/><path d=\"M17.41 7.96l-1.37-1.37c-.4-.4-.92-.59-1.43-.59-.52 0-1.04.2-1.43.59L10.3 9.45l-7.72 7.72c-.78.78-.78 2.05 0 2.83L4 21.41c.39.39.9.59 1.41.59.51 0 1.02-.2 1.41-.59l7.78-7.78 2.81-2.81c.8-.78.8-2.07 0-2.86zM5.41 20L4 18.59l7.72-7.72 1.47 1.35L5.41 20z\"/>\n",
              "  </svg>\n",
              "      </button>\n",
              "      \n",
              "  <style>\n",
              "    .colab-df-container {\n",
              "      display:flex;\n",
              "      flex-wrap:wrap;\n",
              "      gap: 12px;\n",
              "    }\n",
              "\n",
              "    .colab-df-convert {\n",
              "      background-color: #E8F0FE;\n",
              "      border: none;\n",
              "      border-radius: 50%;\n",
              "      cursor: pointer;\n",
              "      display: none;\n",
              "      fill: #1967D2;\n",
              "      height: 32px;\n",
              "      padding: 0 0 0 0;\n",
              "      width: 32px;\n",
              "    }\n",
              "\n",
              "    .colab-df-convert:hover {\n",
              "      background-color: #E2EBFA;\n",
              "      box-shadow: 0px 1px 2px rgba(60, 64, 67, 0.3), 0px 1px 3px 1px rgba(60, 64, 67, 0.15);\n",
              "      fill: #174EA6;\n",
              "    }\n",
              "\n",
              "    [theme=dark] .colab-df-convert {\n",
              "      background-color: #3B4455;\n",
              "      fill: #D2E3FC;\n",
              "    }\n",
              "\n",
              "    [theme=dark] .colab-df-convert:hover {\n",
              "      background-color: #434B5C;\n",
              "      box-shadow: 0px 1px 3px 1px rgba(0, 0, 0, 0.15);\n",
              "      filter: drop-shadow(0px 1px 2px rgba(0, 0, 0, 0.3));\n",
              "      fill: #FFFFFF;\n",
              "    }\n",
              "  </style>\n",
              "\n",
              "      <script>\n",
              "        const buttonEl =\n",
              "          document.querySelector('#df-31972504-a9a1-4a2c-bce5-144512adc405 button.colab-df-convert');\n",
              "        buttonEl.style.display =\n",
              "          google.colab.kernel.accessAllowed ? 'block' : 'none';\n",
              "\n",
              "        async function convertToInteractive(key) {\n",
              "          const element = document.querySelector('#df-31972504-a9a1-4a2c-bce5-144512adc405');\n",
              "          const dataTable =\n",
              "            await google.colab.kernel.invokeFunction('convertToInteractive',\n",
              "                                                     [key], {});\n",
              "          if (!dataTable) return;\n",
              "\n",
              "          const docLinkHtml = 'Like what you see? Visit the ' +\n",
              "            '<a target=\"_blank\" href=https://colab.research.google.com/notebooks/data_table.ipynb>data table notebook</a>'\n",
              "            + ' to learn more about interactive tables.';\n",
              "          element.innerHTML = '';\n",
              "          dataTable['output_type'] = 'display_data';\n",
              "          await google.colab.output.renderOutput(dataTable, element);\n",
              "          const docLink = document.createElement('div');\n",
              "          docLink.innerHTML = docLinkHtml;\n",
              "          element.appendChild(docLink);\n",
              "        }\n",
              "      </script>\n",
              "    </div>\n",
              "  </div>\n",
              "  "
            ]
          },
          "metadata": {},
          "execution_count": 41
        }
      ]
    },
    {
      "cell_type": "markdown",
      "source": [
        "# Visualização de tendências\n",
        "\n",
        "\n"
      ],
      "metadata": {
        "id": "xzhVxjltDnL7"
      }
    },
    {
      "cell_type": "code",
      "source": [
        "# converter valores em um array de numpy\n",
        "X = df.iloc[:, 0].values.reshape(-1, 1)\n",
        "# -1 significa que calculamos a dimensão das linhas mas temos 1 coluna  \n",
        "Y = df.iloc[:, 5].values.reshape(-1, 1)\n",
        "# criar um objeto para a classe  \n",
        "linear_regressor = LinearRegression()\n",
        "# performar a regressão linear  \n",
        "linear_regressor.fit(X, Y)\n",
        "# fazer predições  \n",
        "Y_pred = linear_regressor.predict(X)  "
      ],
      "metadata": {
        "id": "xrgqfoh8nYtF"
      },
      "execution_count": 43,
      "outputs": []
    },
    {
      "cell_type": "code",
      "source": [
        "# fazer um depara de variáveis por colunas do dataframe\n",
        "total_ano = df['total_ano']\n",
        "ano = df['ano']\n",
        "\n",
        "# definir o índice da coluna\n",
        "df.set_index(ano, inplace=True)\n",
        "\n",
        "# criar subplots para visualizar os dois gráficos um ao lado do outro\n",
        "fig, axes = plt.subplots(nrows=1, ncols=2, figsize=(24, 7.5))\n",
        "\n",
        "# adicionar título e legendas do x e y\n",
        "\n",
        "axes[0].set_title('Remuneração líquida no Executivo civil federal ativo')\n",
        "axes[0].set_xlabel('Ano')\n",
        "axes[0].set_ylabel('Remuneração Média')\n",
        "\n",
        "axes[1].set_title('Tendência da remuneração líquida no Executivo civil federal ativo')\n",
        "axes[1].set_xlabel('Ano')\n",
        "axes[1].set_ylabel('Remuneração Média')\n",
        "\n",
        "axes[0].plot(ano, total_ano)\n",
        "axes[1].scatter(X, Y)\n",
        "axes[1].plot(X, Y_pred, color='red')"
      ],
      "metadata": {
        "colab": {
          "base_uri": "https://localhost:8080/",
          "height": 503
        },
        "id": "_cSshFwMofRa",
        "outputId": "d4824f0f-e5a9-4815-f463-2e234d08fa97"
      },
      "execution_count": 44,
      "outputs": [
        {
          "output_type": "execute_result",
          "data": {
            "text/plain": [
              "[<matplotlib.lines.Line2D at 0x7f4efb630fd0>]"
            ]
          },
          "metadata": {},
          "execution_count": 44
        },
        {
          "output_type": "display_data",
          "data": {
            "text/plain": [
              "<Figure size 1728x540 with 2 Axes>"
            ],
            "image/png": "[encoded data removed]"
          },
          "metadata": {
            "needs_background": "light"
          }
        }
      ]
    },
    {
      "cell_type": "markdown",
      "source": [
        "O gráfico acima demonstra uma série histórica do valor de remuneração média líquida no Executivo civil federal ativo em relação aos anos de 1999 até 2020.\n",
        "No primeiro gráfico a esquerda podemos perceber que há uma tendência de crescimento do valor de remuneração pouco antes de 2005, fenômeno esse que podemos reforçar por meio da regressão linear apresentada no segundo gráfico. Nisso, vemos que por volta do ano de 2004, há uma elevação significativa do valor de remuneração até o ano de 2015, o que resulta nessa faixa de tempo em um aumento considerável de recebimento desses servidores. Esse aumento fica estagnado por um tempo, mas logo já começa a decrescer. A abertura da regressão linear indica que mesmo decrescendo a tendência ainda é de crescimento do valor de remuneração nos próximos anos. "
      ],
      "metadata": {
        "id": "WiPg9cjVkMCa"
      }
    },
    {
      "cell_type": "code",
      "source": [
        "# definir o índice da coluna\n",
        "df.set_index(ano, inplace=True)\n",
        "\n",
        "# criar subplots para visualizar os dois gráficos um ao lado do outro\n",
        "fig, axs = plt.subplots(nrows=1, ncols=2, figsize=(24, 7.5))\n",
        "\n",
        "axs[0].set_title('Remuneração líquida para o gênero masculino')\n",
        "axs[0].set_xlabel('Ano')\n",
        "axs[0].set_ylabel('Remuneração Média')\n",
        "\n",
        "axs[1].set_title('Remuneração líquida para o gênero feminino')\n",
        "axs[1].set_xlabel('Ano')\n",
        "axs[1].set_ylabel('Remuneração Média')\n",
        "\n",
        "# agrupar o dado por produto e desenhar um gráfico de linha\n",
        "df.groupby('raça')['Mas'].plot(legend=True, ax=axs[0])\n",
        "df.groupby('raça')['Fem'].plot(legend=True, ax=axs[1])"
      ],
      "metadata": {
        "colab": {
          "base_uri": "https://localhost:8080/",
          "height": 625
        },
        "id": "EEjiDKUxgnov",
        "outputId": "f70148db-1e24-4b40-c197-0f0154ce5344"
      },
      "execution_count": 49,
      "outputs": [
        {
          "output_type": "execute_result",
          "data": {
            "text/plain": [
              "raça\n",
              "AMARELA          AxesSubplot(0.547727,0.125;0.352273x0.755)\n",
              "BRANCA           AxesSubplot(0.547727,0.125;0.352273x0.755)\n",
              "INDIGENA         AxesSubplot(0.547727,0.125;0.352273x0.755)\n",
              "NAO INFORMADO    AxesSubplot(0.547727,0.125;0.352273x0.755)\n",
              "PARDA            AxesSubplot(0.547727,0.125;0.352273x0.755)\n",
              "PRETA            AxesSubplot(0.547727,0.125;0.352273x0.755)\n",
              "Name: Fem, dtype: object"
            ]
          },
          "metadata": {},
          "execution_count": 49
        },
        {
          "output_type": "display_data",
          "data": {
            "text/plain": [
              "<Figure size 1728x540 with 2 Axes>"
            ],
            "image/png": "[encoded data removed]"
          },
          "metadata": {
            "needs_background": "light"
          }
        }
      ]
    },
    {
      "cell_type": "markdown",
      "source": [
        "No geral, vemos que os comportamentos de valores médios de remuneração no decorrer dos anos é bastante similar para ambos os gêneros. Porém, podemos constatar que os valores de remuneração para o gênero feminino são menores para todas as raças e em toda sequência de anos em relação ao gênero masculino. Outra constatação importante de se verificar é que a raça branca ganha mais do que as outras em todo esse período de análise para ambos os gêneros. Valores de medições estatísticas apresentadas abaixo reforçam esse fenômeno, indicando que o comportamento de remuneração varia bastante de acordo com o segmento de gênero e raça que cada grupo específico se encaixa."
      ],
      "metadata": {
        "id": "etBvVIZm0H5G"
      }
    },
    {
      "cell_type": "code",
      "source": [
        "# verificar medidas estatísticas dos valores em relação a todas as raças no gênero masculino\n",
        "df.groupby('raça')['Mas'].describe().transpose()"
      ],
      "metadata": {
        "colab": {
          "base_uri": "https://localhost:8080/",
          "height": 300
        },
        "id": "NpRjQe1-Ykp0",
        "outputId": "28253259-506e-44ac-ba29-38d3dc310614"
      },
      "execution_count": 46,
      "outputs": [
        {
          "output_type": "execute_result",
          "data": {
            "text/plain": [
              "raça       AMARELA         BRANCA     INDIGENA  NAO INFORMADO         PARDA  \\\n",
              "count    22.000000      22.000000    22.000000      22.000000     22.000000   \n",
              "mean   8350.954545  144600.500000  1033.863636   27714.909091  80217.863636   \n",
              "std     696.932632   18423.881815    52.068906    8630.355976  10678.856106   \n",
              "min    6740.000000  116405.000000   882.000000   16372.000000  60326.000000   \n",
              "25%    7850.750000  125321.250000  1002.000000   20868.500000  74276.750000   \n",
              "50%    8493.500000  149179.000000  1054.000000   27033.000000  81337.500000   \n",
              "75%    8903.750000  160225.000000  1069.000000   31462.250000  87272.500000   \n",
              "max    9141.000000  166663.000000  1100.000000   50004.000000  93791.000000   \n",
              "\n",
              "raça          PRETA  \n",
              "count     22.000000  \n",
              "mean   10838.954545  \n",
              "std     2081.986882  \n",
              "min     8018.000000  \n",
              "25%     9143.250000  \n",
              "50%    10498.000000  \n",
              "75%    12614.750000  \n",
              "max    14051.000000  "
            ],
            "text/html": [
              "\n",
              "  <div id=\"df-da4d882a-6105-4264-b586-279cb60c03ef\">\n",
              "    <div class=\"colab-df-container\">\n",
              "      <div>\n",
              "<style scoped>\n",
              "    .dataframe tbody tr th:only-of-type {\n",
              "        vertical-align: middle;\n",
              "    }\n",
              "\n",
              "    .dataframe tbody tr th {\n",
              "        vertical-align: top;\n",
              "    }\n",
              "\n",
              "    .dataframe thead th {\n",
              "        text-align: right;\n",
              "    }\n",
              "</style>\n",
              "<table border=\"1\" class=\"dataframe\">\n",
              "  <thead>\n",
              "    <tr style=\"text-align: right;\">\n",
              "      <th>raça</th>\n",
              "      <th>AMARELA</th>\n",
              "      <th>BRANCA</th>\n",
              "      <th>INDIGENA</th>\n",
              "      <th>NAO INFORMADO</th>\n",
              "      <th>PARDA</th>\n",
              "      <th>PRETA</th>\n",
              "    </tr>\n",
              "  </thead>\n",
              "  <tbody>\n",
              "    <tr>\n",
              "      <th>count</th>\n",
              "      <td>22.000000</td>\n",
              "      <td>22.000000</td>\n",
              "      <td>22.000000</td>\n",
              "      <td>22.000000</td>\n",
              "      <td>22.000000</td>\n",
              "      <td>22.000000</td>\n",
              "    </tr>\n",
              "    <tr>\n",
              "      <th>mean</th>\n",
              "      <td>8350.954545</td>\n",
              "      <td>144600.500000</td>\n",
              "      <td>1033.863636</td>\n",
              "      <td>27714.909091</td>\n",
              "      <td>80217.863636</td>\n",
              "      <td>10838.954545</td>\n",
              "    </tr>\n",
              "    <tr>\n",
              "      <th>std</th>\n",
              "      <td>696.932632</td>\n",
              "      <td>18423.881815</td>\n",
              "      <td>52.068906</td>\n",
              "      <td>8630.355976</td>\n",
              "      <td>10678.856106</td>\n",
              "      <td>2081.986882</td>\n",
              "    </tr>\n",
              "    <tr>\n",
              "      <th>min</th>\n",
              "      <td>6740.000000</td>\n",
              "      <td>116405.000000</td>\n",
              "      <td>882.000000</td>\n",
              "      <td>16372.000000</td>\n",
              "      <td>60326.000000</td>\n",
              "      <td>8018.000000</td>\n",
              "    </tr>\n",
              "    <tr>\n",
              "      <th>25%</th>\n",
              "      <td>7850.750000</td>\n",
              "      <td>125321.250000</td>\n",
              "      <td>1002.000000</td>\n",
              "      <td>20868.500000</td>\n",
              "      <td>74276.750000</td>\n",
              "      <td>9143.250000</td>\n",
              "    </tr>\n",
              "    <tr>\n",
              "      <th>50%</th>\n",
              "      <td>8493.500000</td>\n",
              "      <td>149179.000000</td>\n",
              "      <td>1054.000000</td>\n",
              "      <td>27033.000000</td>\n",
              "      <td>81337.500000</td>\n",
              "      <td>10498.000000</td>\n",
              "    </tr>\n",
              "    <tr>\n",
              "      <th>75%</th>\n",
              "      <td>8903.750000</td>\n",
              "      <td>160225.000000</td>\n",
              "      <td>1069.000000</td>\n",
              "      <td>31462.250000</td>\n",
              "      <td>87272.500000</td>\n",
              "      <td>12614.750000</td>\n",
              "    </tr>\n",
              "    <tr>\n",
              "      <th>max</th>\n",
              "      <td>9141.000000</td>\n",
              "      <td>166663.000000</td>\n",
              "      <td>1100.000000</td>\n",
              "      <td>50004.000000</td>\n",
              "      <td>93791.000000</td>\n",
              "      <td>14051.000000</td>\n",
              "    </tr>\n",
              "  </tbody>\n",
              "</table>\n",
              "</div>\n",
              "      <button class=\"colab-df-convert\" onclick=\"convertToInteractive('df-da4d882a-6105-4264-b586-279cb60c03ef')\"\n",
              "              title=\"Convert this dataframe to an interactive table.\"\n",
              "              style=\"display:none;\">\n",
              "        \n",
              "  <svg xmlns=\"http://www.w3.org/2000/svg\" height=\"24px\"viewBox=\"0 0 24 24\"\n",
              "       width=\"24px\">\n",
              "    <path d=\"M0 0h24v24H0V0z\" fill=\"none\"/>\n",
              "    <path d=\"M18.56 5.44l.94 2.06.94-2.06 2.06-.94-2.06-.94-.94-2.06-.94 2.06-2.06.94zm-11 1L8.5 8.5l.94-2.06 2.06-.94-2.06-.94L8.5 2.5l-.94 2.06-2.06.94zm10 10l.94 2.06.94-2.06 2.06-.94-2.06-.94-.94-2.06-.94 2.06-2.06.94z\"/><path d=\"M17.41 7.96l-1.37-1.37c-.4-.4-.92-.59-1.43-.59-.52 0-1.04.2-1.43.59L10.3 9.45l-7.72 7.72c-.78.78-.78 2.05 0 2.83L4 21.41c.39.39.9.59 1.41.59.51 0 1.02-.2 1.41-.59l7.78-7.78 2.81-2.81c.8-.78.8-2.07 0-2.86zM5.41 20L4 18.59l7.72-7.72 1.47 1.35L5.41 20z\"/>\n",
              "  </svg>\n",
              "      </button>\n",
              "      \n",
              "  <style>\n",
              "    .colab-df-container {\n",
              "      display:flex;\n",
              "      flex-wrap:wrap;\n",
              "      gap: 12px;\n",
              "    }\n",
              "\n",
              "    .colab-df-convert {\n",
              "      background-color: #E8F0FE;\n",
              "      border: none;\n",
              "      border-radius: 50%;\n",
              "      cursor: pointer;\n",
              "      display: none;\n",
              "      fill: #1967D2;\n",
              "      height: 32px;\n",
              "      padding: 0 0 0 0;\n",
              "      width: 32px;\n",
              "    }\n",
              "\n",
              "    .colab-df-convert:hover {\n",
              "      background-color: #E2EBFA;\n",
              "      box-shadow: 0px 1px 2px rgba(60, 64, 67, 0.3), 0px 1px 3px 1px rgba(60, 64, 67, 0.15);\n",
              "      fill: #174EA6;\n",
              "    }\n",
              "\n",
              "    [theme=dark] .colab-df-convert {\n",
              "      background-color: #3B4455;\n",
              "      fill: #D2E3FC;\n",
              "    }\n",
              "\n",
              "    [theme=dark] .colab-df-convert:hover {\n",
              "      background-color: #434B5C;\n",
              "      box-shadow: 0px 1px 3px 1px rgba(0, 0, 0, 0.15);\n",
              "      filter: drop-shadow(0px 1px 2px rgba(0, 0, 0, 0.3));\n",
              "      fill: #FFFFFF;\n",
              "    }\n",
              "  </style>\n",
              "\n",
              "      <script>\n",
              "        const buttonEl =\n",
              "          document.querySelector('#df-da4d882a-6105-4264-b586-279cb60c03ef button.colab-df-convert');\n",
              "        buttonEl.style.display =\n",
              "          google.colab.kernel.accessAllowed ? 'block' : 'none';\n",
              "\n",
              "        async function convertToInteractive(key) {\n",
              "          const element = document.querySelector('#df-da4d882a-6105-4264-b586-279cb60c03ef');\n",
              "          const dataTable =\n",
              "            await google.colab.kernel.invokeFunction('convertToInteractive',\n",
              "                                                     [key], {});\n",
              "          if (!dataTable) return;\n",
              "\n",
              "          const docLinkHtml = 'Like what you see? Visit the ' +\n",
              "            '<a target=\"_blank\" href=https://colab.research.google.com/notebooks/data_table.ipynb>data table notebook</a>'\n",
              "            + ' to learn more about interactive tables.';\n",
              "          element.innerHTML = '';\n",
              "          dataTable['output_type'] = 'display_data';\n",
              "          await google.colab.output.renderOutput(dataTable, element);\n",
              "          const docLink = document.createElement('div');\n",
              "          docLink.innerHTML = docLinkHtml;\n",
              "          element.appendChild(docLink);\n",
              "        }\n",
              "      </script>\n",
              "    </div>\n",
              "  </div>\n",
              "  "
            ]
          },
          "metadata": {},
          "execution_count": 46
        }
      ]
    },
    {
      "cell_type": "code",
      "source": [
        "# verificar medidas estatísticas dos valores em relação a todas as raças no gênero feminino\n",
        "df.groupby('raça')['Fem'].describe().transpose()"
      ],
      "metadata": {
        "colab": {
          "base_uri": "https://localhost:8080/",
          "height": 300
        },
        "id": "JEeh7vqcs9gw",
        "outputId": "9563876a-4bba-4e31-cc4c-e2b7539a9df9"
      },
      "execution_count": 47,
      "outputs": [
        {
          "output_type": "execute_result",
          "data": {
            "text/plain": [
              "raça       AMARELA        BRANCA    INDIGENA  NAO INFORMADO         PARDA  \\\n",
              "count    22.000000      22.00000   22.000000      22.000000     22.000000   \n",
              "mean   7088.545455  122059.00000  508.772727   18782.818182  57939.772727   \n",
              "std     595.446909   15611.68875   27.102858    5539.171544   5603.467565   \n",
              "min    5258.000000  101395.00000  416.000000   11872.000000  49673.000000   \n",
              "25%    7003.750000  106068.75000  495.750000   14387.500000  53544.500000   \n",
              "50%    7183.500000  123668.50000  514.500000   17424.500000  57155.000000   \n",
              "75%    7479.500000  135649.75000  527.750000   20967.500000  61703.750000   \n",
              "max    7698.000000  142657.00000  539.000000   32792.000000  66264.000000   \n",
              "\n",
              "raça          PRETA  \n",
              "count     22.000000  \n",
              "mean   10333.136364  \n",
              "std     1375.153404  \n",
              "min     8745.000000  \n",
              "25%     9092.250000  \n",
              "50%     9994.000000  \n",
              "75%    11523.250000  \n",
              "max    12571.000000  "
            ],
            "text/html": [
              "\n",
              "  <div id=\"df-4c63114c-6ee2-4781-a305-9a26d3135f9a\">\n",
              "    <div class=\"colab-df-container\">\n",
              "      <div>\n",
              "<style scoped>\n",
              "    .dataframe tbody tr th:only-of-type {\n",
              "        vertical-align: middle;\n",
              "    }\n",
              "\n",
              "    .dataframe tbody tr th {\n",
              "        vertical-align: top;\n",
              "    }\n",
              "\n",
              "    .dataframe thead th {\n",
              "        text-align: right;\n",
              "    }\n",
              "</style>\n",
              "<table border=\"1\" class=\"dataframe\">\n",
              "  <thead>\n",
              "    <tr style=\"text-align: right;\">\n",
              "      <th>raça</th>\n",
              "      <th>AMARELA</th>\n",
              "      <th>BRANCA</th>\n",
              "      <th>INDIGENA</th>\n",
              "      <th>NAO INFORMADO</th>\n",
              "      <th>PARDA</th>\n",
              "      <th>PRETA</th>\n",
              "    </tr>\n",
              "  </thead>\n",
              "  <tbody>\n",
              "    <tr>\n",
              "      <th>count</th>\n",
              "      <td>22.000000</td>\n",
              "      <td>22.00000</td>\n",
              "      <td>22.000000</td>\n",
              "      <td>22.000000</td>\n",
              "      <td>22.000000</td>\n",
              "      <td>22.000000</td>\n",
              "    </tr>\n",
              "    <tr>\n",
              "      <th>mean</th>\n",
              "      <td>7088.545455</td>\n",
              "      <td>122059.00000</td>\n",
              "      <td>508.772727</td>\n",
              "      <td>18782.818182</td>\n",
              "      <td>57939.772727</td>\n",
              "      <td>10333.136364</td>\n",
              "    </tr>\n",
              "    <tr>\n",
              "      <th>std</th>\n",
              "      <td>595.446909</td>\n",
              "      <td>15611.68875</td>\n",
              "      <td>27.102858</td>\n",
              "      <td>5539.171544</td>\n",
              "      <td>5603.467565</td>\n",
              "      <td>1375.153404</td>\n",
              "    </tr>\n",
              "    <tr>\n",
              "      <th>min</th>\n",
              "      <td>5258.000000</td>\n",
              "      <td>101395.00000</td>\n",
              "      <td>416.000000</td>\n",
              "      <td>11872.000000</td>\n",
              "      <td>49673.000000</td>\n",
              "      <td>8745.000000</td>\n",
              "    </tr>\n",
              "    <tr>\n",
              "      <th>25%</th>\n",
              "      <td>7003.750000</td>\n",
              "      <td>106068.75000</td>\n",
              "      <td>495.750000</td>\n",
              "      <td>14387.500000</td>\n",
              "      <td>53544.500000</td>\n",
              "      <td>9092.250000</td>\n",
              "    </tr>\n",
              "    <tr>\n",
              "      <th>50%</th>\n",
              "      <td>7183.500000</td>\n",
              "      <td>123668.50000</td>\n",
              "      <td>514.500000</td>\n",
              "      <td>17424.500000</td>\n",
              "      <td>57155.000000</td>\n",
              "      <td>9994.000000</td>\n",
              "    </tr>\n",
              "    <tr>\n",
              "      <th>75%</th>\n",
              "      <td>7479.500000</td>\n",
              "      <td>135649.75000</td>\n",
              "      <td>527.750000</td>\n",
              "      <td>20967.500000</td>\n",
              "      <td>61703.750000</td>\n",
              "      <td>11523.250000</td>\n",
              "    </tr>\n",
              "    <tr>\n",
              "      <th>max</th>\n",
              "      <td>7698.000000</td>\n",
              "      <td>142657.00000</td>\n",
              "      <td>539.000000</td>\n",
              "      <td>32792.000000</td>\n",
              "      <td>66264.000000</td>\n",
              "      <td>12571.000000</td>\n",
              "    </tr>\n",
              "  </tbody>\n",
              "</table>\n",
              "</div>\n",
              "      <button class=\"colab-df-convert\" onclick=\"convertToInteractive('df-4c63114c-6ee2-4781-a305-9a26d3135f9a')\"\n",
              "              title=\"Convert this dataframe to an interactive table.\"\n",
              "              style=\"display:none;\">\n",
              "        \n",
              "  <svg xmlns=\"http://www.w3.org/2000/svg\" height=\"24px\"viewBox=\"0 0 24 24\"\n",
              "       width=\"24px\">\n",
              "    <path d=\"M0 0h24v24H0V0z\" fill=\"none\"/>\n",
              "    <path d=\"M18.56 5.44l.94 2.06.94-2.06 2.06-.94-2.06-.94-.94-2.06-.94 2.06-2.06.94zm-11 1L8.5 8.5l.94-2.06 2.06-.94-2.06-.94L8.5 2.5l-.94 2.06-2.06.94zm10 10l.94 2.06.94-2.06 2.06-.94-2.06-.94-.94-2.06-.94 2.06-2.06.94z\"/><path d=\"M17.41 7.96l-1.37-1.37c-.4-.4-.92-.59-1.43-.59-.52 0-1.04.2-1.43.59L10.3 9.45l-7.72 7.72c-.78.78-.78 2.05 0 2.83L4 21.41c.39.39.9.59 1.41.59.51 0 1.02-.2 1.41-.59l7.78-7.78 2.81-2.81c.8-.78.8-2.07 0-2.86zM5.41 20L4 18.59l7.72-7.72 1.47 1.35L5.41 20z\"/>\n",
              "  </svg>\n",
              "      </button>\n",
              "      \n",
              "  <style>\n",
              "    .colab-df-container {\n",
              "      display:flex;\n",
              "      flex-wrap:wrap;\n",
              "      gap: 12px;\n",
              "    }\n",
              "\n",
              "    .colab-df-convert {\n",
              "      background-color: #E8F0FE;\n",
              "      border: none;\n",
              "      border-radius: 50%;\n",
              "      cursor: pointer;\n",
              "      display: none;\n",
              "      fill: #1967D2;\n",
              "      height: 32px;\n",
              "      padding: 0 0 0 0;\n",
              "      width: 32px;\n",
              "    }\n",
              "\n",
              "    .colab-df-convert:hover {\n",
              "      background-color: #E2EBFA;\n",
              "      box-shadow: 0px 1px 2px rgba(60, 64, 67, 0.3), 0px 1px 3px 1px rgba(60, 64, 67, 0.15);\n",
              "      fill: #174EA6;\n",
              "    }\n",
              "\n",
              "    [theme=dark] .colab-df-convert {\n",
              "      background-color: #3B4455;\n",
              "      fill: #D2E3FC;\n",
              "    }\n",
              "\n",
              "    [theme=dark] .colab-df-convert:hover {\n",
              "      background-color: #434B5C;\n",
              "      box-shadow: 0px 1px 3px 1px rgba(0, 0, 0, 0.15);\n",
              "      filter: drop-shadow(0px 1px 2px rgba(0, 0, 0, 0.3));\n",
              "      fill: #FFFFFF;\n",
              "    }\n",
              "  </style>\n",
              "\n",
              "      <script>\n",
              "        const buttonEl =\n",
              "          document.querySelector('#df-4c63114c-6ee2-4781-a305-9a26d3135f9a button.colab-df-convert');\n",
              "        buttonEl.style.display =\n",
              "          google.colab.kernel.accessAllowed ? 'block' : 'none';\n",
              "\n",
              "        async function convertToInteractive(key) {\n",
              "          const element = document.querySelector('#df-4c63114c-6ee2-4781-a305-9a26d3135f9a');\n",
              "          const dataTable =\n",
              "            await google.colab.kernel.invokeFunction('convertToInteractive',\n",
              "                                                     [key], {});\n",
              "          if (!dataTable) return;\n",
              "\n",
              "          const docLinkHtml = 'Like what you see? Visit the ' +\n",
              "            '<a target=\"_blank\" href=https://colab.research.google.com/notebooks/data_table.ipynb>data table notebook</a>'\n",
              "            + ' to learn more about interactive tables.';\n",
              "          element.innerHTML = '';\n",
              "          dataTable['output_type'] = 'display_data';\n",
              "          await google.colab.output.renderOutput(dataTable, element);\n",
              "          const docLink = document.createElement('div');\n",
              "          docLink.innerHTML = docLinkHtml;\n",
              "          element.appendChild(docLink);\n",
              "        }\n",
              "      </script>\n",
              "    </div>\n",
              "  </div>\n",
              "  "
            ]
          },
          "metadata": {},
          "execution_count": 47
        }
      ]
    }
  ]
}