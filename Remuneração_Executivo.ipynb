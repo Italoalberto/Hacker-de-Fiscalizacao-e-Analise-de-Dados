{
  "nbformat": 4,
  "nbformat_minor": 0,
  "metadata": {
    "colab": {
      "name": "Remuneração_Executivo.ipynb",
      "provenance": [],
      "authorship_tag": "ABX9TyOE/hq3Uu9i1GG5IH0DP0Y+",
      "include_colab_link": true
    },
    "kernelspec": {
      "name": "python3",
      "display_name": "Python 3"
    },
    "language_info": {
      "name": "python"
    }
  },
  "cells": [
    {
      "cell_type": "markdown",
      "metadata": {
        "id": "view-in-github",
        "colab_type": "text"
      },
      "source": [
        "<a href=\"https://colab.research.google.com/github/Italoalberto/Hacker-de-Fiscalizacao-e-Analise-de-Dados/blob/main/Remunera%C3%A7%C3%A3o_Executivo.ipynb\" target=\"_parent\"><img src=\"https://colab.research.google.com/assets/colab-badge.svg\" alt=\"Open In Colab\"/></a>"
      ]
    },
    {
      "cell_type": "markdown",
      "source": [
        "# # Hacker de Fiscalização e Análise de Dados"
      ],
      "metadata": {
        "id": "f_v_9z8padVg"
      }
    },
    {
      "cell_type": "markdown",
      "source": [
        "Faça uma breve análise sobre a evolução da remuneração de servidores federais. Nosso objetivo é verificar sua capacidade de programação, análise de dados e de apresentação dos resultados"
      ],
      "metadata": {
        "id": "SEW1qIsTaWjf"
      }
    },
    {
      "cell_type": "markdown",
      "source": [
        "\"Baseado na tabela em CSV com a série histórica 'Remuneração líquida média\n",
        "mensal no Executivo civil federal ativo, por sexo e raça (1999-2020)',\n",
        "disponível no site do Atlas do Estado Brasileiro (IPEA), comente uma ou duas\n",
        "tendências da evolução da remuneração destes servidores de acordo com seu\n",
        "sexo e/ou raça.\"\n",
        "\n",
        "Dados obtidos em:\n",
        "\n",
        "https://www.ipea.gov.br/atlasestado/filtros-series"
      ],
      "metadata": {
        "id": "El3k3ubnasCf"
      }
    },
    {
      "cell_type": "markdown",
      "source": [
        "# Importar dependências"
      ],
      "metadata": {
        "id": "7NqNUPpp_sTU"
      }
    },
    {
      "cell_type": "code",
      "source": [
        "import pandas as pd #biblioteca para manipulação de dados\n",
        "import numpy as np #biblioteca para utilizacao de vetores e matrizes\n",
        "import matplotlib.pyplot as plt #bibloteca para plotar graficos"
      ],
      "metadata": {
        "id": "afpdzTSfYOap"
      },
      "execution_count": 3,
      "outputs": []
    },
    {
      "cell_type": "code",
      "source": [
        "#liberando acesso do colab aos arquivos no Google Drive\n",
        "from google.colab import drive\n",
        "drive.mount('/content/gdrive')\n"
      ],
      "metadata": {
        "colab": {
          "base_uri": "https://localhost:8080/"
        },
        "id": "qnlZK8qQaahx",
        "outputId": "872a724c-7cdd-4d0b-d63f-483221160229"
      },
      "execution_count": 4,
      "outputs": [
        {
          "output_type": "stream",
          "name": "stdout",
          "text": [
            "Mounted at /content/gdrive\n"
          ]
        }
      ]
    },
    {
      "cell_type": "markdown",
      "source": [
        "# Carregar dados"
      ],
      "metadata": {
        "id": "xX0QeOjqDMYJ"
      }
    },
    {
      "cell_type": "code",
      "source": [
        "#lendo o csv que contem as base de dados em dfs\n",
        "df = pd.read_csv('/content/gdrive/MyDrive/Colab Notebooks/6957-racasexo.csv', sep=';')"
      ],
      "metadata": {
        "id": "q-M1Zv0FYUZ2"
      },
      "execution_count": 5,
      "outputs": []
    },
    {
      "cell_type": "code",
      "source": [
        "df.head(13)"
      ],
      "metadata": {
        "colab": {
          "base_uri": "https://localhost:8080/",
          "height": 457
        },
        "id": "JskkTTMdYIMR",
        "outputId": "1cc6bfea-700d-4dc4-92d7-178e1f28d3e0"
      },
      "execution_count": 6,
      "outputs": [
        {
          "output_type": "execute_result",
          "data": {
            "text/plain": [
              "     ano           raça     Fem     Mas   total  total_ano  fem_ano  mas_ano\n",
              "0   1999        AMARELA    7319    8566   15885     477416   210314   267102\n",
              "1   1999         BRANCA  105793  124198  229991     477416   210314   267102\n",
              "2   1999       INDIGENA     530    1054    1584     477416   210314   267102\n",
              "3   1999  NAO INFORMADO   32792   50004   82796     477416   210314   267102\n",
              "4   1999          PARDA   54612   74169  128781     477416   210314   267102\n",
              "5   1999          PRETA    9268    9111   18379     477416   210314   267102\n",
              "6   2000        AMARELA    7249    8498   15747     462828   203748   259080\n",
              "7   2000         BRANCA  104437  123495  227932     462828   203748   259080\n",
              "8   2000       INDIGENA     523    1033    1556     462828   203748   259080\n",
              "9   2000  NAO INFORMADO   28780   43736   72516     462828   203748   259080\n",
              "10  2000          PARDA   53654   73305  126959     462828   203748   259080\n",
              "11  2000          PRETA    9105    9013   18118     462828   203748   259080\n",
              "12  2001        AMARELA    7112    8236   15348     446363   198272   248091"
            ],
            "text/html": [
              "\n",
              "  <div id=\"df-1612d0e6-dcf1-413f-a714-168305dd4969\">\n",
              "    <div class=\"colab-df-container\">\n",
              "      <div>\n",
              "<style scoped>\n",
              "    .dataframe tbody tr th:only-of-type {\n",
              "        vertical-align: middle;\n",
              "    }\n",
              "\n",
              "    .dataframe tbody tr th {\n",
              "        vertical-align: top;\n",
              "    }\n",
              "\n",
              "    .dataframe thead th {\n",
              "        text-align: right;\n",
              "    }\n",
              "</style>\n",
              "<table border=\"1\" class=\"dataframe\">\n",
              "  <thead>\n",
              "    <tr style=\"text-align: right;\">\n",
              "      <th></th>\n",
              "      <th>ano</th>\n",
              "      <th>raça</th>\n",
              "      <th>Fem</th>\n",
              "      <th>Mas</th>\n",
              "      <th>total</th>\n",
              "      <th>total_ano</th>\n",
              "      <th>fem_ano</th>\n",
              "      <th>mas_ano</th>\n",
              "    </tr>\n",
              "  </thead>\n",
              "  <tbody>\n",
              "    <tr>\n",
              "      <th>0</th>\n",
              "      <td>1999</td>\n",
              "      <td>AMARELA</td>\n",
              "      <td>7319</td>\n",
              "      <td>8566</td>\n",
              "      <td>15885</td>\n",
              "      <td>477416</td>\n",
              "      <td>210314</td>\n",
              "      <td>267102</td>\n",
              "    </tr>\n",
              "    <tr>\n",
              "      <th>1</th>\n",
              "      <td>1999</td>\n",
              "      <td>BRANCA</td>\n",
              "      <td>105793</td>\n",
              "      <td>124198</td>\n",
              "      <td>229991</td>\n",
              "      <td>477416</td>\n",
              "      <td>210314</td>\n",
              "      <td>267102</td>\n",
              "    </tr>\n",
              "    <tr>\n",
              "      <th>2</th>\n",
              "      <td>1999</td>\n",
              "      <td>INDIGENA</td>\n",
              "      <td>530</td>\n",
              "      <td>1054</td>\n",
              "      <td>1584</td>\n",
              "      <td>477416</td>\n",
              "      <td>210314</td>\n",
              "      <td>267102</td>\n",
              "    </tr>\n",
              "    <tr>\n",
              "      <th>3</th>\n",
              "      <td>1999</td>\n",
              "      <td>NAO INFORMADO</td>\n",
              "      <td>32792</td>\n",
              "      <td>50004</td>\n",
              "      <td>82796</td>\n",
              "      <td>477416</td>\n",
              "      <td>210314</td>\n",
              "      <td>267102</td>\n",
              "    </tr>\n",
              "    <tr>\n",
              "      <th>4</th>\n",
              "      <td>1999</td>\n",
              "      <td>PARDA</td>\n",
              "      <td>54612</td>\n",
              "      <td>74169</td>\n",
              "      <td>128781</td>\n",
              "      <td>477416</td>\n",
              "      <td>210314</td>\n",
              "      <td>267102</td>\n",
              "    </tr>\n",
              "    <tr>\n",
              "      <th>5</th>\n",
              "      <td>1999</td>\n",
              "      <td>PRETA</td>\n",
              "      <td>9268</td>\n",
              "      <td>9111</td>\n",
              "      <td>18379</td>\n",
              "      <td>477416</td>\n",
              "      <td>210314</td>\n",
              "      <td>267102</td>\n",
              "    </tr>\n",
              "    <tr>\n",
              "      <th>6</th>\n",
              "      <td>2000</td>\n",
              "      <td>AMARELA</td>\n",
              "      <td>7249</td>\n",
              "      <td>8498</td>\n",
              "      <td>15747</td>\n",
              "      <td>462828</td>\n",
              "      <td>203748</td>\n",
              "      <td>259080</td>\n",
              "    </tr>\n",
              "    <tr>\n",
              "      <th>7</th>\n",
              "      <td>2000</td>\n",
              "      <td>BRANCA</td>\n",
              "      <td>104437</td>\n",
              "      <td>123495</td>\n",
              "      <td>227932</td>\n",
              "      <td>462828</td>\n",
              "      <td>203748</td>\n",
              "      <td>259080</td>\n",
              "    </tr>\n",
              "    <tr>\n",
              "      <th>8</th>\n",
              "      <td>2000</td>\n",
              "      <td>INDIGENA</td>\n",
              "      <td>523</td>\n",
              "      <td>1033</td>\n",
              "      <td>1556</td>\n",
              "      <td>462828</td>\n",
              "      <td>203748</td>\n",
              "      <td>259080</td>\n",
              "    </tr>\n",
              "    <tr>\n",
              "      <th>9</th>\n",
              "      <td>2000</td>\n",
              "      <td>NAO INFORMADO</td>\n",
              "      <td>28780</td>\n",
              "      <td>43736</td>\n",
              "      <td>72516</td>\n",
              "      <td>462828</td>\n",
              "      <td>203748</td>\n",
              "      <td>259080</td>\n",
              "    </tr>\n",
              "    <tr>\n",
              "      <th>10</th>\n",
              "      <td>2000</td>\n",
              "      <td>PARDA</td>\n",
              "      <td>53654</td>\n",
              "      <td>73305</td>\n",
              "      <td>126959</td>\n",
              "      <td>462828</td>\n",
              "      <td>203748</td>\n",
              "      <td>259080</td>\n",
              "    </tr>\n",
              "    <tr>\n",
              "      <th>11</th>\n",
              "      <td>2000</td>\n",
              "      <td>PRETA</td>\n",
              "      <td>9105</td>\n",
              "      <td>9013</td>\n",
              "      <td>18118</td>\n",
              "      <td>462828</td>\n",
              "      <td>203748</td>\n",
              "      <td>259080</td>\n",
              "    </tr>\n",
              "    <tr>\n",
              "      <th>12</th>\n",
              "      <td>2001</td>\n",
              "      <td>AMARELA</td>\n",
              "      <td>7112</td>\n",
              "      <td>8236</td>\n",
              "      <td>15348</td>\n",
              "      <td>446363</td>\n",
              "      <td>198272</td>\n",
              "      <td>248091</td>\n",
              "    </tr>\n",
              "  </tbody>\n",
              "</table>\n",
              "</div>\n",
              "      <button class=\"colab-df-convert\" onclick=\"convertToInteractive('df-1612d0e6-dcf1-413f-a714-168305dd4969')\"\n",
              "              title=\"Convert this dataframe to an interactive table.\"\n",
              "              style=\"display:none;\">\n",
              "        \n",
              "  <svg xmlns=\"http://www.w3.org/2000/svg\" height=\"24px\"viewBox=\"0 0 24 24\"\n",
              "       width=\"24px\">\n",
              "    <path d=\"M0 0h24v24H0V0z\" fill=\"none\"/>\n",
              "    <path d=\"M18.56 5.44l.94 2.06.94-2.06 2.06-.94-2.06-.94-.94-2.06-.94 2.06-2.06.94zm-11 1L8.5 8.5l.94-2.06 2.06-.94-2.06-.94L8.5 2.5l-.94 2.06-2.06.94zm10 10l.94 2.06.94-2.06 2.06-.94-2.06-.94-.94-2.06-.94 2.06-2.06.94z\"/><path d=\"M17.41 7.96l-1.37-1.37c-.4-.4-.92-.59-1.43-.59-.52 0-1.04.2-1.43.59L10.3 9.45l-7.72 7.72c-.78.78-.78 2.05 0 2.83L4 21.41c.39.39.9.59 1.41.59.51 0 1.02-.2 1.41-.59l7.78-7.78 2.81-2.81c.8-.78.8-2.07 0-2.86zM5.41 20L4 18.59l7.72-7.72 1.47 1.35L5.41 20z\"/>\n",
              "  </svg>\n",
              "      </button>\n",
              "      \n",
              "  <style>\n",
              "    .colab-df-container {\n",
              "      display:flex;\n",
              "      flex-wrap:wrap;\n",
              "      gap: 12px;\n",
              "    }\n",
              "\n",
              "    .colab-df-convert {\n",
              "      background-color: #E8F0FE;\n",
              "      border: none;\n",
              "      border-radius: 50%;\n",
              "      cursor: pointer;\n",
              "      display: none;\n",
              "      fill: #1967D2;\n",
              "      height: 32px;\n",
              "      padding: 0 0 0 0;\n",
              "      width: 32px;\n",
              "    }\n",
              "\n",
              "    .colab-df-convert:hover {\n",
              "      background-color: #E2EBFA;\n",
              "      box-shadow: 0px 1px 2px rgba(60, 64, 67, 0.3), 0px 1px 3px 1px rgba(60, 64, 67, 0.15);\n",
              "      fill: #174EA6;\n",
              "    }\n",
              "\n",
              "    [theme=dark] .colab-df-convert {\n",
              "      background-color: #3B4455;\n",
              "      fill: #D2E3FC;\n",
              "    }\n",
              "\n",
              "    [theme=dark] .colab-df-convert:hover {\n",
              "      background-color: #434B5C;\n",
              "      box-shadow: 0px 1px 3px 1px rgba(0, 0, 0, 0.15);\n",
              "      filter: drop-shadow(0px 1px 2px rgba(0, 0, 0, 0.3));\n",
              "      fill: #FFFFFF;\n",
              "    }\n",
              "  </style>\n",
              "\n",
              "      <script>\n",
              "        const buttonEl =\n",
              "          document.querySelector('#df-1612d0e6-dcf1-413f-a714-168305dd4969 button.colab-df-convert');\n",
              "        buttonEl.style.display =\n",
              "          google.colab.kernel.accessAllowed ? 'block' : 'none';\n",
              "\n",
              "        async function convertToInteractive(key) {\n",
              "          const element = document.querySelector('#df-1612d0e6-dcf1-413f-a714-168305dd4969');\n",
              "          const dataTable =\n",
              "            await google.colab.kernel.invokeFunction('convertToInteractive',\n",
              "                                                     [key], {});\n",
              "          if (!dataTable) return;\n",
              "\n",
              "          const docLinkHtml = 'Like what you see? Visit the ' +\n",
              "            '<a target=\"_blank\" href=https://colab.research.google.com/notebooks/data_table.ipynb>data table notebook</a>'\n",
              "            + ' to learn more about interactive tables.';\n",
              "          element.innerHTML = '';\n",
              "          dataTable['output_type'] = 'display_data';\n",
              "          await google.colab.output.renderOutput(dataTable, element);\n",
              "          const docLink = document.createElement('div');\n",
              "          docLink.innerHTML = docLinkHtml;\n",
              "          element.appendChild(docLink);\n",
              "        }\n",
              "      </script>\n",
              "    </div>\n",
              "  </div>\n",
              "  "
            ]
          },
          "metadata": {},
          "execution_count": 6
        }
      ]
    },
    {
      "cell_type": "code",
      "source": [
        "df.info()"
      ],
      "metadata": {
        "colab": {
          "base_uri": "https://localhost:8080/"
        },
        "id": "mLa6uyqZ5HjS",
        "outputId": "c37e714a-5467-4e5c-e50b-5d47de911d9b"
      },
      "execution_count": 7,
      "outputs": [
        {
          "output_type": "stream",
          "name": "stdout",
          "text": [
            "<class 'pandas.core.frame.DataFrame'>\n",
            "RangeIndex: 132 entries, 0 to 131\n",
            "Data columns (total 8 columns):\n",
            " #   Column     Non-Null Count  Dtype \n",
            "---  ------     --------------  ----- \n",
            " 0   ano        132 non-null    int64 \n",
            " 1   raça       132 non-null    object\n",
            " 2   Fem        132 non-null    int64 \n",
            " 3   Mas        132 non-null    int64 \n",
            " 4   total      132 non-null    int64 \n",
            " 5   total_ano  132 non-null    int64 \n",
            " 6   fem_ano    132 non-null    int64 \n",
            " 7   mas_ano    132 non-null    int64 \n",
            "dtypes: int64(7), object(1)\n",
            "memory usage: 8.4+ KB\n"
          ]
        }
      ]
    },
    {
      "cell_type": "markdown",
      "source": [
        "# Plotar gráficos"
      ],
      "metadata": {
        "id": "xzhVxjltDnL7"
      }
    },
    {
      "cell_type": "code",
      "source": [
        "total_ano = df['total_ano']\n",
        "ano = df['ano']"
      ],
      "metadata": {
        "id": "ERG2okRy2jXa"
      },
      "execution_count": 8,
      "outputs": []
    },
    {
      "cell_type": "code",
      "source": [
        "# plotar y (total_ano) vs x (ano)\n",
        "plt.plot(ano, total_ano)\n",
        "\n",
        "# adicionar título e legendas do x e y\n",
        "plt.title('Remuneração líquida no Executivo civil federal ativo')\n",
        "plt.xlabel('x-axis label')\n",
        "plt.ylabel('y-axis label')\n",
        "\n",
        "# desenhar o gráfico\n",
        "plt.show()"
      ],
      "metadata": {
        "colab": {
          "base_uri": "https://localhost:8080/",
          "height": 295
        },
        "id": "2QcfZXzn2zth",
        "outputId": "afd160e9-5da1-4a82-e41a-10310938aa21"
      },
      "execution_count": 10,
      "outputs": [
        {
          "output_type": "display_data",
          "data": {
            "text/plain": [
              "<Figure size 432x288 with 1 Axes>"
            ],
            "image/png": "[encoded data removed]"
          },
          "metadata": {
            "needs_background": "light"
          }
        }
      ]
    },
    {
      "cell_type": "code",
      "source": [
        "#definir o índice da coluna\n",
        "df.set_index(ano, inplace=True)\n",
        "\n",
        "#agrupar o dado por produto e desenhar um gráfico de linha\n",
        "df.groupby('raça')['total'].plot(legend=True)"
      ],
      "metadata": {
        "colab": {
          "base_uri": "https://localhost:8080/",
          "height": 418
        },
        "id": "ntoXVB9U31wa",
        "outputId": "1d880e50-f842-44ab-f476-437e1cb64c79"
      },
      "execution_count": 11,
      "outputs": [
        {
          "output_type": "execute_result",
          "data": {
            "text/plain": [
              "raça\n",
              "AMARELA          AxesSubplot(0.125,0.125;0.775x0.755)\n",
              "BRANCA           AxesSubplot(0.125,0.125;0.775x0.755)\n",
              "INDIGENA         AxesSubplot(0.125,0.125;0.775x0.755)\n",
              "NAO INFORMADO    AxesSubplot(0.125,0.125;0.775x0.755)\n",
              "PARDA            AxesSubplot(0.125,0.125;0.775x0.755)\n",
              "PRETA            AxesSubplot(0.125,0.125;0.775x0.755)\n",
              "Name: total, dtype: object"
            ]
          },
          "metadata": {},
          "execution_count": 11
        },
        {
          "output_type": "display_data",
          "data": {
            "text/plain": [
              "<Figure size 432x288 with 1 Axes>"
            ],
            "image/png": "[encoded data removed]"
          },
          "metadata": {
            "needs_background": "light"
          }
        }
      ]
    },
    {
      "cell_type": "code",
      "source": [
        "#definir o índice da coluna\n",
        "df.set_index(ano, inplace=True)\n",
        "\n",
        "#agrupar o dado por produto e desenhar um gráfico de linha\n",
        "df.Mas = df.groupby('raça')['Mas'].plot(legend=True)"
      ],
      "metadata": {
        "colab": {
          "base_uri": "https://localhost:8080/",
          "height": 279
        },
        "id": "1tr1q2UG7NAV",
        "outputId": "bd81f087-81ee-4433-ae43-e0a2da442247"
      },
      "execution_count": 13,
      "outputs": [
        {
          "output_type": "display_data",
          "data": {
            "text/plain": [
              "<Figure size 432x288 with 1 Axes>"
            ],
            "image/png": "[encoded data removed]"
          },
          "metadata": {
            "needs_background": "light"
          }
        }
      ]
    },
    {
      "cell_type": "code",
      "source": [
        "#definir o índice da coluna\n",
        "df.set_index(ano, inplace=True)\n",
        "\n",
        "#agrupar o dado por produto e desenhar um gráfico de linha\n",
        "df.Fem = df.groupby('raça')['Fem'].plot(legend=True)"
      ],
      "metadata": {
        "colab": {
          "base_uri": "https://localhost:8080/",
          "height": 279
        },
        "id": "WCr_C1XR_zeT",
        "outputId": "61b655bb-2c52-4646-c5f8-9fdc8e9ae8c2"
      },
      "execution_count": 14,
      "outputs": [
        {
          "output_type": "display_data",
          "data": {
            "text/plain": [
              "<Figure size 432x288 with 1 Axes>"
            ],
            "image/png": "[encoded data removed]"
          },
          "metadata": {
            "needs_background": "light"
          }
        }
      ]
    },
    {
      "cell_type": "markdown",
      "source": [
        "# Análise estatística"
      ],
      "metadata": {
        "id": "qiaoENEURiY6"
      }
    },
    {
      "cell_type": "code",
      "source": [
        "df.describe().transpose()"
      ],
      "metadata": {
        "colab": {
          "base_uri": "https://localhost:8080/",
          "height": 206
        },
        "id": "NpRjQe1-Ykp0",
        "outputId": "7a6ef6d3-a687-42ab-e4c7-bcaeea9a8442"
      },
      "execution_count": 15,
      "outputs": [
        {
          "output_type": "execute_result",
          "data": {
            "text/plain": [
              "           count           mean           std       min       25%       50%  \\\n",
              "ano        132.0    2009.500000      6.368458    1999.0    2004.0    2009.5   \n",
              "total      132.0   81578.181818  95817.636835    1298.0   15712.0   27432.5   \n",
              "total_ano  132.0  489469.090909  41303.037093  414170.0  459342.0  492797.0   \n",
              "fem_ano    132.0  216712.045455  17468.552011  189415.0  199621.0  215785.0   \n",
              "mas_ano    132.0  272757.045455  24243.967985  224755.0  259080.0  277012.0   \n",
              "\n",
              "                 75%       max  \n",
              "ano          2015.00    2020.0  \n",
              "total      137283.25  309320.0  \n",
              "total_ano  524805.00  543665.0  \n",
              "fem_ano    232731.00  241297.0  \n",
              "mas_ano    291421.00  302368.0  "
            ],
            "text/html": [
              "\n",
              "  <div id=\"df-721d9fe6-0c81-4567-aa4c-f96b42152c32\">\n",
              "    <div class=\"colab-df-container\">\n",
              "      <div>\n",
              "<style scoped>\n",
              "    .dataframe tbody tr th:only-of-type {\n",
              "        vertical-align: middle;\n",
              "    }\n",
              "\n",
              "    .dataframe tbody tr th {\n",
              "        vertical-align: top;\n",
              "    }\n",
              "\n",
              "    .dataframe thead th {\n",
              "        text-align: right;\n",
              "    }\n",
              "</style>\n",
              "<table border=\"1\" class=\"dataframe\">\n",
              "  <thead>\n",
              "    <tr style=\"text-align: right;\">\n",
              "      <th></th>\n",
              "      <th>count</th>\n",
              "      <th>mean</th>\n",
              "      <th>std</th>\n",
              "      <th>min</th>\n",
              "      <th>25%</th>\n",
              "      <th>50%</th>\n",
              "      <th>75%</th>\n",
              "      <th>max</th>\n",
              "    </tr>\n",
              "  </thead>\n",
              "  <tbody>\n",
              "    <tr>\n",
              "      <th>ano</th>\n",
              "      <td>132.0</td>\n",
              "      <td>2009.500000</td>\n",
              "      <td>6.368458</td>\n",
              "      <td>1999.0</td>\n",
              "      <td>2004.0</td>\n",
              "      <td>2009.5</td>\n",
              "      <td>2015.00</td>\n",
              "      <td>2020.0</td>\n",
              "    </tr>\n",
              "    <tr>\n",
              "      <th>total</th>\n",
              "      <td>132.0</td>\n",
              "      <td>81578.181818</td>\n",
              "      <td>95817.636835</td>\n",
              "      <td>1298.0</td>\n",
              "      <td>15712.0</td>\n",
              "      <td>27432.5</td>\n",
              "      <td>137283.25</td>\n",
              "      <td>309320.0</td>\n",
              "    </tr>\n",
              "    <tr>\n",
              "      <th>total_ano</th>\n",
              "      <td>132.0</td>\n",
              "      <td>489469.090909</td>\n",
              "      <td>41303.037093</td>\n",
              "      <td>414170.0</td>\n",
              "      <td>459342.0</td>\n",
              "      <td>492797.0</td>\n",
              "      <td>524805.00</td>\n",
              "      <td>543665.0</td>\n",
              "    </tr>\n",
              "    <tr>\n",
              "      <th>fem_ano</th>\n",
              "      <td>132.0</td>\n",
              "      <td>216712.045455</td>\n",
              "      <td>17468.552011</td>\n",
              "      <td>189415.0</td>\n",
              "      <td>199621.0</td>\n",
              "      <td>215785.0</td>\n",
              "      <td>232731.00</td>\n",
              "      <td>241297.0</td>\n",
              "    </tr>\n",
              "    <tr>\n",
              "      <th>mas_ano</th>\n",
              "      <td>132.0</td>\n",
              "      <td>272757.045455</td>\n",
              "      <td>24243.967985</td>\n",
              "      <td>224755.0</td>\n",
              "      <td>259080.0</td>\n",
              "      <td>277012.0</td>\n",
              "      <td>291421.00</td>\n",
              "      <td>302368.0</td>\n",
              "    </tr>\n",
              "  </tbody>\n",
              "</table>\n",
              "</div>\n",
              "      <button class=\"colab-df-convert\" onclick=\"convertToInteractive('df-721d9fe6-0c81-4567-aa4c-f96b42152c32')\"\n",
              "              title=\"Convert this dataframe to an interactive table.\"\n",
              "              style=\"display:none;\">\n",
              "        \n",
              "  <svg xmlns=\"http://www.w3.org/2000/svg\" height=\"24px\"viewBox=\"0 0 24 24\"\n",
              "       width=\"24px\">\n",
              "    <path d=\"M0 0h24v24H0V0z\" fill=\"none\"/>\n",
              "    <path d=\"M18.56 5.44l.94 2.06.94-2.06 2.06-.94-2.06-.94-.94-2.06-.94 2.06-2.06.94zm-11 1L8.5 8.5l.94-2.06 2.06-.94-2.06-.94L8.5 2.5l-.94 2.06-2.06.94zm10 10l.94 2.06.94-2.06 2.06-.94-2.06-.94-.94-2.06-.94 2.06-2.06.94z\"/><path d=\"M17.41 7.96l-1.37-1.37c-.4-.4-.92-.59-1.43-.59-.52 0-1.04.2-1.43.59L10.3 9.45l-7.72 7.72c-.78.78-.78 2.05 0 2.83L4 21.41c.39.39.9.59 1.41.59.51 0 1.02-.2 1.41-.59l7.78-7.78 2.81-2.81c.8-.78.8-2.07 0-2.86zM5.41 20L4 18.59l7.72-7.72 1.47 1.35L5.41 20z\"/>\n",
              "  </svg>\n",
              "      </button>\n",
              "      \n",
              "  <style>\n",
              "    .colab-df-container {\n",
              "      display:flex;\n",
              "      flex-wrap:wrap;\n",
              "      gap: 12px;\n",
              "    }\n",
              "\n",
              "    .colab-df-convert {\n",
              "      background-color: #E8F0FE;\n",
              "      border: none;\n",
              "      border-radius: 50%;\n",
              "      cursor: pointer;\n",
              "      display: none;\n",
              "      fill: #1967D2;\n",
              "      height: 32px;\n",
              "      padding: 0 0 0 0;\n",
              "      width: 32px;\n",
              "    }\n",
              "\n",
              "    .colab-df-convert:hover {\n",
              "      background-color: #E2EBFA;\n",
              "      box-shadow: 0px 1px 2px rgba(60, 64, 67, 0.3), 0px 1px 3px 1px rgba(60, 64, 67, 0.15);\n",
              "      fill: #174EA6;\n",
              "    }\n",
              "\n",
              "    [theme=dark] .colab-df-convert {\n",
              "      background-color: #3B4455;\n",
              "      fill: #D2E3FC;\n",
              "    }\n",
              "\n",
              "    [theme=dark] .colab-df-convert:hover {\n",
              "      background-color: #434B5C;\n",
              "      box-shadow: 0px 1px 3px 1px rgba(0, 0, 0, 0.15);\n",
              "      filter: drop-shadow(0px 1px 2px rgba(0, 0, 0, 0.3));\n",
              "      fill: #FFFFFF;\n",
              "    }\n",
              "  </style>\n",
              "\n",
              "      <script>\n",
              "        const buttonEl =\n",
              "          document.querySelector('#df-721d9fe6-0c81-4567-aa4c-f96b42152c32 button.colab-df-convert');\n",
              "        buttonEl.style.display =\n",
              "          google.colab.kernel.accessAllowed ? 'block' : 'none';\n",
              "\n",
              "        async function convertToInteractive(key) {\n",
              "          const element = document.querySelector('#df-721d9fe6-0c81-4567-aa4c-f96b42152c32');\n",
              "          const dataTable =\n",
              "            await google.colab.kernel.invokeFunction('convertToInteractive',\n",
              "                                                     [key], {});\n",
              "          if (!dataTable) return;\n",
              "\n",
              "          const docLinkHtml = 'Like what you see? Visit the ' +\n",
              "            '<a target=\"_blank\" href=https://colab.research.google.com/notebooks/data_table.ipynb>data table notebook</a>'\n",
              "            + ' to learn more about interactive tables.';\n",
              "          element.innerHTML = '';\n",
              "          dataTable['output_type'] = 'display_data';\n",
              "          await google.colab.output.renderOutput(dataTable, element);\n",
              "          const docLink = document.createElement('div');\n",
              "          docLink.innerHTML = docLinkHtml;\n",
              "          element.appendChild(docLink);\n",
              "        }\n",
              "      </script>\n",
              "    </div>\n",
              "  </div>\n",
              "  "
            ]
          },
          "metadata": {},
          "execution_count": 15
        }
      ]
    },
    {
      "cell_type": "code",
      "source": [
        "df.corr()"
      ],
      "metadata": {
        "colab": {
          "base_uri": "https://localhost:8080/",
          "height": 206
        },
        "id": "qdgmt2rHZBEP",
        "outputId": "8ee21147-5bfc-4064-e788-f8c335832493"
      },
      "execution_count": 16,
      "outputs": [
        {
          "output_type": "execute_result",
          "data": {
            "text/plain": [
              "                ano     total  total_ano   fem_ano   mas_ano\n",
              "ano        1.000000  0.059493   0.828094  0.841367  0.804544\n",
              "total      0.059493  1.000000   0.071843  0.070863  0.071336\n",
              "total_ano  0.828094  0.071843   1.000000  0.986357  0.992940\n",
              "fem_ano    0.841367  0.070863   0.986357  1.000000  0.959867\n",
              "mas_ano    0.804544  0.071336   0.992940  0.959867  1.000000"
            ],
            "text/html": [
              "\n",
              "  <div id=\"df-52f71069-b5b1-4c16-8990-b56d08aab842\">\n",
              "    <div class=\"colab-df-container\">\n",
              "      <div>\n",
              "<style scoped>\n",
              "    .dataframe tbody tr th:only-of-type {\n",
              "        vertical-align: middle;\n",
              "    }\n",
              "\n",
              "    .dataframe tbody tr th {\n",
              "        vertical-align: top;\n",
              "    }\n",
              "\n",
              "    .dataframe thead th {\n",
              "        text-align: right;\n",
              "    }\n",
              "</style>\n",
              "<table border=\"1\" class=\"dataframe\">\n",
              "  <thead>\n",
              "    <tr style=\"text-align: right;\">\n",
              "      <th></th>\n",
              "      <th>ano</th>\n",
              "      <th>total</th>\n",
              "      <th>total_ano</th>\n",
              "      <th>fem_ano</th>\n",
              "      <th>mas_ano</th>\n",
              "    </tr>\n",
              "  </thead>\n",
              "  <tbody>\n",
              "    <tr>\n",
              "      <th>ano</th>\n",
              "      <td>1.000000</td>\n",
              "      <td>0.059493</td>\n",
              "      <td>0.828094</td>\n",
              "      <td>0.841367</td>\n",
              "      <td>0.804544</td>\n",
              "    </tr>\n",
              "    <tr>\n",
              "      <th>total</th>\n",
              "      <td>0.059493</td>\n",
              "      <td>1.000000</td>\n",
              "      <td>0.071843</td>\n",
              "      <td>0.070863</td>\n",
              "      <td>0.071336</td>\n",
              "    </tr>\n",
              "    <tr>\n",
              "      <th>total_ano</th>\n",
              "      <td>0.828094</td>\n",
              "      <td>0.071843</td>\n",
              "      <td>1.000000</td>\n",
              "      <td>0.986357</td>\n",
              "      <td>0.992940</td>\n",
              "    </tr>\n",
              "    <tr>\n",
              "      <th>fem_ano</th>\n",
              "      <td>0.841367</td>\n",
              "      <td>0.070863</td>\n",
              "      <td>0.986357</td>\n",
              "      <td>1.000000</td>\n",
              "      <td>0.959867</td>\n",
              "    </tr>\n",
              "    <tr>\n",
              "      <th>mas_ano</th>\n",
              "      <td>0.804544</td>\n",
              "      <td>0.071336</td>\n",
              "      <td>0.992940</td>\n",
              "      <td>0.959867</td>\n",
              "      <td>1.000000</td>\n",
              "    </tr>\n",
              "  </tbody>\n",
              "</table>\n",
              "</div>\n",
              "      <button class=\"colab-df-convert\" onclick=\"convertToInteractive('df-52f71069-b5b1-4c16-8990-b56d08aab842')\"\n",
              "              title=\"Convert this dataframe to an interactive table.\"\n",
              "              style=\"display:none;\">\n",
              "        \n",
              "  <svg xmlns=\"http://www.w3.org/2000/svg\" height=\"24px\"viewBox=\"0 0 24 24\"\n",
              "       width=\"24px\">\n",
              "    <path d=\"M0 0h24v24H0V0z\" fill=\"none\"/>\n",
              "    <path d=\"M18.56 5.44l.94 2.06.94-2.06 2.06-.94-2.06-.94-.94-2.06-.94 2.06-2.06.94zm-11 1L8.5 8.5l.94-2.06 2.06-.94-2.06-.94L8.5 2.5l-.94 2.06-2.06.94zm10 10l.94 2.06.94-2.06 2.06-.94-2.06-.94-.94-2.06-.94 2.06-2.06.94z\"/><path d=\"M17.41 7.96l-1.37-1.37c-.4-.4-.92-.59-1.43-.59-.52 0-1.04.2-1.43.59L10.3 9.45l-7.72 7.72c-.78.78-.78 2.05 0 2.83L4 21.41c.39.39.9.59 1.41.59.51 0 1.02-.2 1.41-.59l7.78-7.78 2.81-2.81c.8-.78.8-2.07 0-2.86zM5.41 20L4 18.59l7.72-7.72 1.47 1.35L5.41 20z\"/>\n",
              "  </svg>\n",
              "      </button>\n",
              "      \n",
              "  <style>\n",
              "    .colab-df-container {\n",
              "      display:flex;\n",
              "      flex-wrap:wrap;\n",
              "      gap: 12px;\n",
              "    }\n",
              "\n",
              "    .colab-df-convert {\n",
              "      background-color: #E8F0FE;\n",
              "      border: none;\n",
              "      border-radius: 50%;\n",
              "      cursor: pointer;\n",
              "      display: none;\n",
              "      fill: #1967D2;\n",
              "      height: 32px;\n",
              "      padding: 0 0 0 0;\n",
              "      width: 32px;\n",
              "    }\n",
              "\n",
              "    .colab-df-convert:hover {\n",
              "      background-color: #E2EBFA;\n",
              "      box-shadow: 0px 1px 2px rgba(60, 64, 67, 0.3), 0px 1px 3px 1px rgba(60, 64, 67, 0.15);\n",
              "      fill: #174EA6;\n",
              "    }\n",
              "\n",
              "    [theme=dark] .colab-df-convert {\n",
              "      background-color: #3B4455;\n",
              "      fill: #D2E3FC;\n",
              "    }\n",
              "\n",
              "    [theme=dark] .colab-df-convert:hover {\n",
              "      background-color: #434B5C;\n",
              "      box-shadow: 0px 1px 3px 1px rgba(0, 0, 0, 0.15);\n",
              "      filter: drop-shadow(0px 1px 2px rgba(0, 0, 0, 0.3));\n",
              "      fill: #FFFFFF;\n",
              "    }\n",
              "  </style>\n",
              "\n",
              "      <script>\n",
              "        const buttonEl =\n",
              "          document.querySelector('#df-52f71069-b5b1-4c16-8990-b56d08aab842 button.colab-df-convert');\n",
              "        buttonEl.style.display =\n",
              "          google.colab.kernel.accessAllowed ? 'block' : 'none';\n",
              "\n",
              "        async function convertToInteractive(key) {\n",
              "          const element = document.querySelector('#df-52f71069-b5b1-4c16-8990-b56d08aab842');\n",
              "          const dataTable =\n",
              "            await google.colab.kernel.invokeFunction('convertToInteractive',\n",
              "                                                     [key], {});\n",
              "          if (!dataTable) return;\n",
              "\n",
              "          const docLinkHtml = 'Like what you see? Visit the ' +\n",
              "            '<a target=\"_blank\" href=https://colab.research.google.com/notebooks/data_table.ipynb>data table notebook</a>'\n",
              "            + ' to learn more about interactive tables.';\n",
              "          element.innerHTML = '';\n",
              "          dataTable['output_type'] = 'display_data';\n",
              "          await google.colab.output.renderOutput(dataTable, element);\n",
              "          const docLink = document.createElement('div');\n",
              "          docLink.innerHTML = docLinkHtml;\n",
              "          element.appendChild(docLink);\n",
              "        }\n",
              "      </script>\n",
              "    </div>\n",
              "  </div>\n",
              "  "
            ]
          },
          "metadata": {},
          "execution_count": 16
        }
      ]
    },
    {
      "cell_type": "code",
      "source": [
        ""
      ],
      "metadata": {
        "id": "Lqjzh3QOagaX"
      },
      "execution_count": null,
      "outputs": []
    }
  ]
}